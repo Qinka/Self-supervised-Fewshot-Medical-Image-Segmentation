{
 "cells": [
  {
   "cell_type": "code",
   "execution_count": null,
   "metadata": {},
   "outputs": [],
   "source": [
    "%reset\n",
    "%load_ext autoreload\n",
    "%autoreload 2\n",
    "import numpy as np\n",
    "import os\n",
    "import glob\n",
    "import SimpleITK as sitk\n",
    "import matplotlib.pyplot as plt\n",
    "import sys\n",
    "sys.path.insert(0, '../../dataloaders/')\n",
    "import niftiio as nio"
   ]
  },
  {
   "cell_type": "code",
   "execution_count": null,
   "metadata": {},
   "outputs": [],
   "source": [
    "# lets save them in a same way as mmwhs for the ease of modifying dataloader\n",
    "\n",
    "# normalization: cut top 2% of histogram, then doing volume-wise normalization\n",
    "\n",
    "IMG_BNAME=\"./normalized/image_*.nii.gz\"\n",
    "SEG_BNAME=\"./normalized/label_*.nii.gz\"\n"
   ]
  },
  {
   "cell_type": "code",
   "execution_count": null,
   "metadata": {},
   "outputs": [],
   "source": [
    "imgs = glob.glob(IMG_BNAME)\n",
    "segs = glob.glob(SEG_BNAME)\n",
    "imgs = [ fid for fid in sorted(imgs, key = lambda x: int(x.split(\"_\")[-1].split(\".nii.gz\")[0])  ) ]\n",
    "segs = [ fid for fid in sorted(segs, key = lambda x: int(x.split(\"_\")[-1].split(\".nii.gz\")[0])  ) ]\n"
   ]
  },
  {
   "cell_type": "code",
   "execution_count": null,
   "metadata": {},
   "outputs": [],
   "source": [
    "imgs"
   ]
  },
  {
   "cell_type": "code",
   "execution_count": null,
   "metadata": {},
   "outputs": [],
   "source": [
    "lb = nio.read_nii_bysitk(segs[0])\n",
    "lb.shape\n",
    "1 in lb[..., 40]"
   ]
  },
  {
   "cell_type": "code",
   "execution_count": null,
   "metadata": {},
   "outputs": [],
   "source": [
    "import json\n",
    "classmap = {}\n",
    "# LABEL_NAME = [\"BGD\", \"SPLEEN\", \"KID_R\", \"KID_l\", \"GALLBLADDER\", \"ESOPHAGUS\", \"LIVER\", \"STOMACH\", \"AORTA\", \"IVC\", \"PS_VEIN\", \"PANCREAS\", \"AG_R\", \"AG_L\"]\n",
    "LABEL_NAME = [\"BGD\", \"SPLEEN\", \"KID_R\", \"KID_L\", \"GALLBLADDER\", \"ESOPHAGUS\", \"LIVER\", \"STOMACH\", \"AORTA\", \"IVC\",  \"PANCREAS\", \"AG_R\", \"AG_L\", \"DUODENUM\", \"BLADDER\", \"PROSTATE\"]\n",
    "\n",
    "MIN_TP=1 # minimum number of true positive pixels in a slice\n",
    "\n",
    "fid = f'./normalized/classmap_{MIN_TP}.json'\n",
    "for _lb in LABEL_NAME:\n",
    "    classmap[_lb] = {}\n",
    "    for pid in range(len(segs)):\n",
    "        classmap[_lb][str(pid)] = []\n",
    "\n",
    "for pid, seg in enumerate(segs):\n",
    "    lb_vol = nio.read_nii_bysitk(seg)\n",
    "    n_slice = lb_vol.shape[0]\n",
    "    for slc in range(n_slice):\n",
    "        for cls in range(len(LABEL_NAME)):\n",
    "            if cls in lb_vol[slc, ...]:\n",
    "                if np.sum( lb_vol[slc, ...] ) >= MIN_TP:\n",
    "                    classmap[LABEL_NAME[cls]][str(pid)].append(slc)\n",
    "    print(f'pid {str(pid)} finished!')\n",
    "    \n",
    "with open(fid, 'w') as fopen:\n",
    "    json.dump(classmap, fopen)\n",
    "    fopen.close()  \n",
    "    "
   ]
  }
 ],
 "metadata": {
  "interpreter": {
   "hash": "4f8acdaac630b58a77ab1e95f9567c2fc5023925a9bd0ebfdd856e03a2c0bb20"
  },
  "kernelspec": {
   "display_name": "Python 3.9.7 ('torchz')",
   "language": "python",
   "name": "python3"
  },
  "language_info": {
   "name": "python",
   "version": "3.9.7"
  },
  "orig_nbformat": 4
 },
 "nbformat": 4,
 "nbformat_minor": 2
}

{
 "cells": [
  {
   "cell_type": "code",
   "execution_count": null,
   "metadata": {},
   "outputs": [],
   "source": [
    "%reset\n",
    "%load_ext autoreload\n",
    "%autoreload 2\n",
    "import numpy as np\n",
    "import os\n",
    "import glob\n",
    "import SimpleITK as sitk\n",
    "\n",
    "import sys\n",
    "\n",
    "sys.path.insert(0, '../../dataloaders/')\n",
    "import niftiio as nio"
   ]
  },
  {
   "cell_type": "code",
   "execution_count": null,
   "metadata": {},
   "outputs": [],
   "source": [
    "TR_IMAGE='./imageTr/'\n",
    "TR_LABEL='./imageTr/'\n",
    "TASK_JSON='task1_dataset.json'\n",
    "\n",
    "OUT_FOLDER='./tmp_normalized/'\n",
    "\n",
    "TASK='./task1_dataset.json'"
   ]
  },
  {
   "cell_type": "code",
   "execution_count": null,
   "metadata": {},
   "outputs": [],
   "source": [
    "import json\n",
    "\n",
    "with open(TASK, 'r') as f:\n",
    "    data = json.load(f)\n",
    "\n",
    "imgs, segs = zip(*[ (d['image'], d['label']) for d in data['training']])\n",
    "\n",
    "# imgs = sorted(glob.glob(TR_IMAGE + '/*.nii.gz'))\n",
    "# segs = sorted(glob.glob(TR_LABEL + '/*.nii.gz'))\n",
    "\n",
    "pids = [ name.split('.')[0][5:] for name in imgs]"
   ]
  },
  {
   "cell_type": "code",
   "execution_count": null,
   "metadata": {},
   "outputs": [],
   "source": [
    "# helper function\n",
    "def copy_spacing_ori(src, dst):\n",
    "    dst.SetSpacing(src.GetSpacing())\n",
    "    dst.SetOrigin(src.GetOrigin())\n",
    "    dst.SetDirection(src.GetDirection())\n",
    "    return dst"
   ]
  },
  {
   "cell_type": "code",
   "execution_count": null,
   "metadata": {},
   "outputs": [],
   "source": [
    "import copy\n",
    "scan_dir = OUT_FOLDER\n",
    "# window and width -> low and high\n",
    "LIR = -75\n",
    "HIR = 215\n",
    "os.makedirs(scan_dir, exist_ok = True)\n",
    "\n",
    "reindex = 0\n",
    "for img_fid, seg_fid, pid in zip(imgs, segs, pids):\n",
    "\n",
    "    img_obj = sitk.ReadImage( img_fid )\n",
    "    seg_obj = sitk.ReadImage( seg_fid )\n",
    "\n",
    "    array = sitk.GetArrayFromImage(img_obj)\n",
    "\n",
    "    array[array > HIR] = HIR\n",
    "    array[array < LIR] = LIR\n",
    "    \n",
    "    array = (array - array.min()) / (array.max() - array.min()) * 255.0\n",
    "    \n",
    "    # then normalize this\n",
    "    \n",
    "    wined_img = sitk.GetImageFromArray(array)\n",
    "    wined_img = copy_spacing_ori(img_obj, wined_img)\n",
    "    \n",
    "    out_img_fid = os.path.join( scan_dir, f'image_{str(reindex)}.nii.gz' )\n",
    "    out_lb_fid  = os.path.join( scan_dir, f'label_{str(reindex)}.nii.gz' ) \n",
    "    \n",
    "    # then save\n",
    "    sitk.WriteImage(wined_img, out_img_fid, True) \n",
    "    sitk.WriteImage(seg_obj, out_lb_fid, True) \n",
    "    print('From', img_fid, seg_fid, 'Saved', out_img_fid, out_lb_fid)\n",
    "    reindex += 1\n"
   ]
  }
 ],
 "metadata": {
  "language_info": {
   "name": "python"
  },
  "orig_nbformat": 4
 },
 "nbformat": 4,
 "nbformat_minor": 2
}
